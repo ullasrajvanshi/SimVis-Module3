{
 "cells": [
  {
   "cell_type": "markdown",
   "metadata": {},
   "source": [
    "## CIE4604 - Simulation and Visualisation\n",
    "## Assignment 3 Exercise\n",
    "\n",
    "#### Student Name(s) : \n",
    "#### Student Number(s): \n",
    "This script does a time series analysis of NDVI using the HANTS (Harmonic Analysis of Time Series) algorithm and visualize the results. HANTS is a software using the Fourier Analysis in order to detect outliers (clouds) and reconstruct image time series.  \n",
    "The analysis is performed over Sector BXII, an agricultural area located close to Sevilla (Spain). \n",
    "Input data files for this script are:\n",
    "* `NDVI_BXII_time_series_2017_2018_S2A_SP.tif  (Geotiff with NDVI time series) `\n",
    "* `ts.mat  (Mat-file with day number information for HANTS) `\n",
    "\n",
    "Optional (non-required) input file(s) are:\n",
    "\n",
    "*` Training_2017_UTM30N_WGS84_SP.shp   (Training dataset) `\n",
    "\n",
    "The actual HANTS algorithm is implemented in the Python function HANTS.py\n",
    "\n",
    "\n",
    "<div class=\"alert alert-block alert-info\">\n",
    "This script is a template that you have to modify in places to obatin the desired results.\n",
    "\n",
    "*See also HANTS.py*\n",
    "\n",
    "</div>"
   ]
  },
  {
   "cell_type": "code",
   "execution_count": null,
   "metadata": {},
   "outputs": [],
   "source": [
    "# Importing all the libraries required for this exercise\n",
    "import numpy as np\n",
    "import rasterio\n",
    "from scipy.io import loadmat\n",
    "import matplotlib.pyplot as plt\n",
    "import matplotlib.colorbar as colorbar\n",
    "from datetime import date, datetime\n",
    "import matplotlib.colors as colors\n",
    "import matplotlib.animation as animation\n",
    "import shapefile \n",
    "import matplotlib as mpl"
   ]
  },
  {
   "cell_type": "markdown",
   "metadata": {},
   "source": [
    "### Load NDVI for the area of interest\n",
    "Input files:\n",
    "* `NDVI_BXII_time_series_2017_2018_S2A_SP.tif - geotiff with NDVI` \n",
    "* `ts.mat - mat file with dates`\n",
    "\n",
    "The following variables are created\n",
    "\n",
    "* NDVI - 3D Matlab matrix with dimensions [lat lon time] , i.e. NDVI(:,:,k) contains the k'th NDVI image (time ts(k)) \n",
    "* ts   - Matlab array with the number of days since 12/04/2017\n",
    "\n",
    "You should definitely take a look at each variable to see what it is about"
   ]
  },
  {
   "cell_type": "code",
   "execution_count": null,
   "metadata": {},
   "outputs": [],
   "source": [
    "path = 'input/'\n",
    "file_in = 'NDVI_BXII_time_series_2017_2018_S2A_SP.tif'\n",
    "\n",
    "# read in file with geotiff geographic information\n",
    "src = rasterio.open(path + file_in)\n",
    "\n",
    "# print out metadata information\n",
    "for k in src.meta:\n",
    "  print(k,src.meta[k])\n",
    "\n",
    "transform = src.transform\n",
    "N = src.width\n",
    "M = src.height\n",
    "dx = transform.a\n",
    "dy = transform.e\n",
    "minx = transform.c\n",
    "maxy = transform.f\n",
    "if dy < 0:\n",
    "    dy = -dy\n",
    "# Read the image data, flip upside down if necessary\n",
    "NDVI = src.read()\n",
    "print(NDVI.shape)"
   ]
  },
  {
   "cell_type": "code",
   "execution_count": null,
   "metadata": {},
   "outputs": [],
   "source": [
    "ndates = NDVI.shape[0]\n",
    "ts = loadmat('input/ts.mat')['ts']\n",
    "tsdates = (date.toordinal(date(2017, 4, 12)) + 366) + ts - 1\n",
    "# Generate X and Y grid locations\n",
    "x = minx + dx / 2 + dx * np.arange(N)\n",
    "y = maxy - dy / 2 - dy * np.arange(M - 1, -1, -1)"
   ]
  },
  {
   "cell_type": "markdown",
   "metadata": {},
   "source": [
    "## Make a scaled image plot of unfiltered NDVI for the first day\n",
    "With the Matlab function imagesc you can make a color indexed image of the NDVI. Imagesc set by default the 'YDir' property to reverse, which is ok for matrices without x and y coordinates, but to obtain the proper  behaviour with x and y coordinate input 'YDir' has to be set to normal.\n",
    "\n",
    "It is very important to select a good colormap for the NDVI. The default colormap for Matlab is |parula|, but this is not a very good choice for NDVI. Why? Have a look for instance at the following article  https://publiclab.org/notes/cfastie/08-26-2014/new-ndvi-colormap\n",
    "\n",
    "The code for making the 2.5D is given below, but you should definitely replace the default Matlab colormap for something more sensible. See\n",
    "also the instructions in Module 3.1.\n",
    "In Python you can read the text file or `mat` file and load it using `matplotlib.colors.ListedColormap`\n",
    "```python\n",
    "data = scipy.io.loadmat('file.mat')['colors']\n",
    "newcmp = colors.ListedColormap(data/255)\n",
    "```\n",
    "You can then declare this new colormap in the `imshow` function by declaring the input as `cmap = newcmp`\n"
   ]
  },
  {
   "cell_type": "code",
   "execution_count": null,
   "metadata": {},
   "outputs": [],
   "source": [
    "# unfiltered NDVI data\n",
    "extent = [x[0] / 1000, x[-1] / 1000, y[0] / 1000, y[-1] / 1000]\n",
    "plt.figure(figsize=(8, 8))\n",
    "index = 0\n",
    "# SELECT APPROPRIATE COLORMAP FOR NDVI \n",
    "# colarmap(something)\n",
    "# END COLORMAP SELECTION\n",
    "    fig = plt.imshow(NDVI[index, :, :], extent=extent, cmap='something')\n",
    "plt.title(\n",
    "    'NDVI ' + datetime.fromordinal(tsdates[:, index] - 366).strftime('%Y-%m-%d') + ' DAY ' + str(int(ts[:, index])))\n",
    "\n",
    "plt.clim(-1, 1)\n",
    "plt.ylabel('North [km]')\n",
    "plt.xlabel('East [km]')\n",
    "plt.axis('image')\n",
    "plt.show()"
   ]
  },
  {
   "cell_type": "markdown",
   "metadata": {},
   "source": [
    "## Create a video with the unfiltered NDVI data\n",
    "A video is created showing the unfiltered NDVI data. We use imagesc, colormap and colorbar to scale and display matrix NDVI(:,:,k) as an image for day, using a meaningful colormap of your choice (see previous section).\n",
    "The figure statetement is called only once, imagesc is called from within the loop over days, and the output is grabbed by getframe for the video."
   ]
  },
  {
   "cell_type": "code",
   "execution_count": null,
   "metadata": {},
   "outputs": [],
   "source": [
    "frames = [] # for storing the generated images\n",
    "# Using matplotlib qt in order to see the video\n",
    "%matplotlib qt\n",
    "fig, ax=plt.subplots()\n",
    "for i in range(ndates):\n",
    "#     im = Add your images here\n",
    "#     title = Add your title here\n",
    "    frames.append([im, title])\n",
    "ani = animation.ArtistAnimation(fig, frames, interval=200, blit=False, repeat=False)\n",
    "# Uncomment below line to save the video\n",
    "ani.save('NDVI_unfiltered.gif')"
   ]
  },
  {
   "cell_type": "markdown",
   "metadata": {},
   "source": [
    "## Compute reconstructed time series using HANTS\n",
    "Inputs for HANTS are the times ts (days) and the NDVI time series for one pixel.\n",
    "Other input parameters for HANTS are defined below:"
   ]
  },
  {
   "cell_type": "code",
   "execution_count": null,
   "metadata": {},
   "outputs": [],
   "source": [
    "nb=365        # length of the base period measured in timeunits of ts\n",
    "nf=3          # number of frequencies to be considered above the zero frequency\n",
    "low=-1        # valid range minimum (values below are rejected right away)\n",
    "high=1        # valid range maximum (values above are rejected right away)\n",
    "fet=0.1       # fit error tolerance (points deviating more than fet from curve fit are rejected)\n",
    "dod=1         # degree of overdeterminedness (iteration stops if number of points reaches the minimum required for curve fitting, plus dod). This is a safety measure\n",
    "delta=0.1     # small positive number (e.g. 0.1) to suppress high amplitudes\n",
    "HiLo='Lo'     # 2-character string indicating rejection of high or low outliers"
   ]
  },
  {
   "cell_type": "markdown",
   "metadata": {},
   "source": [
    "Set the line and sample number of the pixel for which to apply HANTS.\n",
    "\n",
    "We will show you later how to find the line and sample numbers for specific pixel areas, e.g. one of the field in the training set."
   ]
  },
  {
   "cell_type": "code",
   "execution_count": null,
   "metadata": {},
   "outputs": [],
   "source": [
    "lineno=348\n",
    "sampleno=299"
   ]
  },
  {
   "cell_type": "markdown",
   "metadata": {},
   "source": [
    "Do HANTS, first we have to extract the pixel data into the array datain. We use the Matlab function squeeze to do this, because NDVI is stored as a three dimensional array and we have to collect all values that belong to a single pixel. We use squeeze because NDVI(lineno,sampleno,:) does not return an array, but a list, and squeeze will convert this list to an array.\n",
    "\n",
    "HANTS Outputs are:\n",
    "\n",
    "      amp   = array of amplitudes, first element is the average of the curve\n",
    "      phi   = array of phases, first element is zero\n",
    "      dataout\t= array holding reconstructed time series \n"
   ]
  },
  {
   "cell_type": "code",
   "execution_count": null,
   "metadata": {},
   "outputs": [],
   "source": [
    "from HANTS import *\n",
    "\n",
    "datain = np.squeeze(NDVI[:, lineno, sampleno])\n",
    "amp, phi, dataout = HANTS(ndates, nb, nf, datain, ts.transpose(), HiLo, low, high, fet, dod, delta)"
   ]
  },
  {
   "cell_type": "markdown",
   "metadata": {},
   "source": [
    "### Plot the original vs reconstructed time series"
   ]
  },
  {
   "cell_type": "code",
   "execution_count": null,
   "metadata": {},
   "outputs": [],
   "source": [
    "%matplotlib inline\n",
    "plt.figure(figsize=(10,6))\n",
    "plt.plot(ts[0,:], datain, 'b*', label='Original NDVI')\n",
    "plt.plot(ts[0, :], dataout, 'r', label='Smoothed with HANTS')\n",
    "plt.xlim([1, 365])\n",
    "plt.ylim([0, 1])\n",
    "plt.xlabel('Days from 12 April 2017')\n",
    "plt.ylabel('NDVI [-]')\n",
    "plt.title('NDVI - Sentinel 2, WA');\n",
    "plt.legend()\n",
    "plt.show()"
   ]
  },
  {
   "cell_type": "markdown",
   "metadata": {},
   "source": [
    "## Apply HANTS for all pixels\n",
    "\n",
    "Apply the HANTS algorithm for all pixels, and save the amplitude, phase and reconstucted NDVI.\n",
    "<div class=\"alert alert-block alert-danger\">\n",
    "<b>THIS IS A VERY TIME CONSUMING PROCESS THAT MAY TAKE 15-30 MINUTES! SO ONLY DO THIS WHEN YOUR ARE SURE YOU GOT THE CORRECT PARAMETERS, OR TEST IT FIRST ON A SMALLER SAMPLE. </b>\n",
    "</div>\n"
   ]
  },
  {
   "cell_type": "code",
   "execution_count": null,
   "metadata": {},
   "outputs": [],
   "source": [
    "print('Smoothing and filling the missing data, please be patient ... ')\n",
    "# Data is already dimensioned properly in Python, so don't need to do the following:\n",
    "# To work conveniently with HANTS the data must be dimensioned [time,lat,lon]\n",
    "NDVIp = NDVI\n",
    "ni, ny, nx = NDVIp.shape\n",
    "\n",
    "# Initialize new arrays to collect the HANTS output\n",
    "NDVI_HANTS = np.zeros((ni, ny, nx))\n",
    "amp = np.zeros((nf + 1, ny, nx))\n",
    "phi = np.zeros((nf + 1, ny, nx))\n",
    "\n",
    "# Call HANTS in a double loop, line by line (SEE THE WARNING)\n",
    "for line in range(0, ny):\n",
    "    # for line in range(0, 10): # use this for smaller sample\n",
    "    print(\"Doing line %d out of %d \\n\" % (line, ny))\n",
    "    for sample in range(0, nx):\n",
    "        data = NDVIp[:, line, sample]\n",
    "        if np.isnan(data).sum() != ni:\n",
    "            data[np.isnan(data)] = low - 1.0\n",
    "            amp[:, line, sample], phi[:, line, sample], NDVI_HANTS[:, line, sample] = HANTS(ndates, nb, nf, data,\n",
    "                                                                                            ts.transpose(), HiLo,\n",
    "                                                                                            low, high, fet, dod,\n",
    "                                                                                            delta)\n",
    "\n",
    "print(\"Done with smoothing and filling\")"
   ]
  },
  {
   "cell_type": "markdown",
   "metadata": {},
   "source": [
    "<div class='alert alert-info'>\n",
    "Variables can be save and load using Spyder IDE. Make use of that for robust performance. HEre we will make use of pickle library to store the variables. \n",
    "</div>"
   ]
  },
  {
   "cell_type": "code",
   "execution_count": null,
   "metadata": {},
   "outputs": [],
   "source": [
    "# Saving the variables\n",
    "import pickle\n",
    "\n",
    "f = open('NDVIr.pckl', 'wb')\n",
    "pickle.dump([x, y, NDVI_HANTS, amp, phi], f)\n",
    "f.close()"
   ]
  },
  {
   "cell_type": "code",
   "execution_count": null,
   "metadata": {},
   "outputs": [],
   "source": [
    "# Loading the variables\n",
    "# f = open('NDVIr.pckl', 'rb')\n",
    "# x, y, NDVI_HANTS, amp, phi = pickle.load(f)\n",
    "# f.close()"
   ]
  },
  {
   "cell_type": "code",
   "execution_count": null,
   "metadata": {},
   "outputs": [],
   "source": [
    "# Writing NDVI file back\n",
    "profile = src.profile\n",
    "with rasterio.open('NDVI_reconstructed.tif', 'w', **profile) as dst:\n",
    "    for id, layer in enumerate(NDVI_HANTS, 1):\n",
    "        dst.write_band(id, NDVI_HANTS[id - 1, :, :])\n",
    "\n",
    "# Writing Amplitude file back\n",
    "profile = src.profile\n",
    "with rasterio.open('NDVI_amplitude.tif', 'w', **profile) as dst:\n",
    "    for id, layer in enumerate(amp, 1):\n",
    "        dst.write_band(id, amp[id - 1, :, :])\n",
    "\n",
    "# Writing NDVI file back\n",
    "profile = src.profile\n",
    "with rasterio.open('NDVI_phase.tif', 'w', **profile) as dst:\n",
    "    for id, layer in enumerate(phi, 1):\n",
    "        dst.write_band(id, phi[id - 1, :, :])"
   ]
  },
  {
   "cell_type": "markdown",
   "metadata": {},
   "source": [
    "## Create a video of the reconstruced NDVI data\n",
    "\n",
    "Create a video showing the reconstructed NDVI data."
   ]
  },
  {
   "cell_type": "code",
   "execution_count": null,
   "metadata": {},
   "outputs": [],
   "source": [
    "# Your code here"
   ]
  },
  {
   "cell_type": "markdown",
   "metadata": {},
   "source": [
    "## Plot amplitude and phase from HANTS\n"
   ]
  },
  {
   "cell_type": "code",
   "execution_count": null,
   "metadata": {},
   "outputs": [],
   "source": [
    "# Your code here"
   ]
  },
  {
   "cell_type": "markdown",
   "metadata": {},
   "source": [
    "## Analyze the training dataset\n",
    "The training dataset is a shapefile with information on the actual crop that is growing in the fields. The original training dataset was in UTM zone 29N. We used QGIS to convert this to UTM zone 30N, which was is also the zone that is used for the NDVI data.\n",
    "\n",
    "First we must read the shape file with training data\n",
    "```python\n",
    "training = shapefile.Reader(\"Training_set/Training_2017_UTM30N_WGS84_SP.shp\")\n",
    "```"
   ]
  },
  {
   "cell_type": "code",
   "execution_count": null,
   "metadata": {},
   "outputs": [],
   "source": [
    "# Your code here"
   ]
  },
  {
   "cell_type": "markdown",
   "metadata": {},
   "source": [
    "The training dataset consists of 15 polygons. We will create an plot with the amplitude data and overlay the polygon boundaries."
   ]
  },
  {
   "cell_type": "code",
   "execution_count": null,
   "metadata": {},
   "outputs": [],
   "source": [
    "plt.figure(figsize=(12,8))\n",
    "for shape in training.shapeRecords():\n",
    "    x = [i[0]/1000 for i in shape.shape.points[:]]\n",
    "    y = [i[1]/1000 for i in shape.shape.points[:]]\n",
    "    plt.plot(x,y, color='yellow', linewidth=2)\n",
    "greys = mpl.cm.get_cmap('Greys_r')\n",
    "plt.imshow(amp[1, :, :], extent=extent, cmap=greys)\n",
    "plt.axis('image')\n",
    "plt.colorbar(label='Amplitude [-]')\n",
    "plt.ylabel('North [km]')\n",
    "plt.xlabel('East [km]')\n",
    "plt.title('NDVI Training set')\n",
    "plt.show()\n",
    "plt.show()"
   ]
  }
 ],
 "metadata": {
  "kernelspec": {
   "display_name": "Python 3",
   "language": "python",
   "name": "python3"
  },
  "language_info": {
   "codemirror_mode": {
    "name": "ipython",
    "version": 3
   },
   "file_extension": ".py",
   "mimetype": "text/x-python",
   "name": "python",
   "nbconvert_exporter": "python",
   "pygments_lexer": "ipython3",
   "version": "3.7.4"
  },
  "varInspector": {
   "cols": {
    "lenName": 16,
    "lenType": 16,
    "lenVar": 40
   },
   "kernels_config": {
    "python": {
     "delete_cmd_postfix": "",
     "delete_cmd_prefix": "del ",
     "library": "var_list.py",
     "varRefreshCmd": "print(var_dic_list())"
    },
    "r": {
     "delete_cmd_postfix": ") ",
     "delete_cmd_prefix": "rm(",
     "library": "var_list.r",
     "varRefreshCmd": "cat(var_dic_list()) "
    }
   },
   "types_to_exclude": [
    "module",
    "function",
    "builtin_function_or_method",
    "instance",
    "_Feature"
   ],
   "window_display": false
  }
 },
 "nbformat": 4,
 "nbformat_minor": 2
}
